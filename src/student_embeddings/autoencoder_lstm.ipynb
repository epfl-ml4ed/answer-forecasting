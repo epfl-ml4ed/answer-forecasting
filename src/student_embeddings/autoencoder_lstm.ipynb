{
 "cells": [
  {
   "cell_type": "code",
   "execution_count": 1,
   "metadata": {},
   "outputs": [],
   "source": [
    "import torch\n",
    "import pandas as pd\n",
    "import numpy as np\n",
    "from tqdm.auto import tqdm\n",
    "\n",
    "BASE_DATA_DIR = \"../../data\"\n",
    "QNA_DATA_DIR = f\"{BASE_DATA_DIR}/lernnavi/qna\"\n",
    "ORIGINAL_DATA_DIR = f\"{BASE_DATA_DIR}/original/data\""
   ]
  },
  {
   "cell_type": "code",
   "execution_count": 57,
   "metadata": {},
   "outputs": [],
   "source": [
    "device = torch.device(\"cuda\" if torch.cuda.is_available() else \"cpu\")\n",
    "\n",
    "class MCQDataset(torch.utils.data.Dataset):\n",
    "    \"\"\"\n",
    "        \n",
    "    \"\"\"\n",
    "\n",
    "    _nlp_model = None\n",
    "\n",
    "    @property\n",
    "    def nlp_model(self):\n",
    "        if MCQDataset._nlp_model:\n",
    "            return MCQDataset._nlp_model\n",
    "        \n",
    "        from sentence_transformers import SentenceTransformer\n",
    "        MCQDataset._nlp_model = SentenceTransformer('sentence-transformers/paraphrase-multilingual-MiniLM-L12-v2')\n",
    "        return MCQDataset._nlp_model\n",
    "\n",
    "\n",
    "    def __init__(self, datapath, seq_len=5):\n",
    "        self.datapath = datapath\n",
    "        self.seq_len = seq_len\n",
    "\n",
    "        import os\n",
    "        self.df = pd.read_pickle(self.datapath)\n",
    "            \n",
    "        # preprocess topic data\n",
    "        self.df['question_embedding'] = self._create_q_embeddings()\n",
    "        self.df['answer_embedding']= self._create_a_embeddings()\n",
    "\n",
    "    def _create_q_embeddings(self):\n",
    "        # create embeddings for each topic\n",
    "        embeddings = self.nlp_model.to(device).encode(self.df[\"question\"], show_progress_bar=True, batch_size=2048)\n",
    "        return list(map(lambda x: np.squeeze(x), np.split(embeddings, embeddings.shape[0])))\n",
    "    def _create_a_embeddings(self):\n",
    "        # create embeddings for each topic\n",
    "        embeddings = self.nlp_model.to(device).encode(self.df[\"choice\"], show_progress_bar=True, batch_size=2048)\n",
    "        return list(map(lambda x: np.squeeze(x), np.split(embeddings, embeddings.shape[0])))\n",
    "       \n",
    "    def __len__(self):\n",
    "        return len(self.df)\n",
    "\n",
    "    def __getitem__(self, idx):\n",
    "        if idx < 0:\n",
    "            idx = len(self.df) + idx\n",
    "\n",
    "        df2 = self.df[self.df[\"user_id\"] == self.df.iloc[idx][\"user_id\"]].reset_index()\n",
    "        df2 = df2.sort_values(by=\"start_time\").reset_index(drop=True)\n",
    "        indx = df2[df2[\"index\"] == idx].index[0]\n",
    "\n",
    "        \n",
    "        if indx >= self.seq_len:\n",
    "            seq_before = df2.iloc[indx-self.seq_len+1 : indx+1]\n",
    "        else:\n",
    "            seq_before = df2.iloc[0: indx+1]\n",
    "\n",
    "\n",
    "        data = torch.stack(\n",
    "            seq_before.apply(lambda x: np.concatenate((x['question_embedding'], x['answer_embedding'])), axis=1)\n",
    "              .apply(lambda x: torch.tensor(x, dtype=torch.float32))\n",
    "              .tolist()\n",
    "        )\n",
    "\n",
    "        return data"
   ]
  },
  {
   "cell_type": "code",
   "execution_count": 62,
   "metadata": {},
   "outputs": [
    {
     "data": {
      "application/vnd.jupyter.widget-view+json": {
       "model_id": "b24684ff78d34c019097c664d721695b",
       "version_major": 2,
       "version_minor": 0
      },
      "text/plain": [
       "Batches:   0%|          | 0/83 [00:00<?, ?it/s]"
      ]
     },
     "metadata": {},
     "output_type": "display_data"
    },
    {
     "data": {
      "application/vnd.jupyter.widget-view+json": {
       "model_id": "9334e1025d7647539da14cc1c9ccfb25",
       "version_major": 2,
       "version_minor": 0
      },
      "text/plain": [
       "Batches:   0%|          | 0/83 [00:00<?, ?it/s]"
      ]
     },
     "metadata": {},
     "output_type": "display_data"
    },
    {
     "data": {
      "application/vnd.jupyter.widget-view+json": {
       "model_id": "1b9cc7266cac4fc0b640d802acec3cb3",
       "version_major": 2,
       "version_minor": 0
      },
      "text/plain": [
       "Batches:   0%|          | 0/10 [00:00<?, ?it/s]"
      ]
     },
     "metadata": {},
     "output_type": "display_data"
    },
    {
     "data": {
      "application/vnd.jupyter.widget-view+json": {
       "model_id": "6af347f3717b485c9310c7b3bd2922e5",
       "version_major": 2,
       "version_minor": 0
      },
      "text/plain": [
       "Batches:   0%|          | 0/10 [00:00<?, ?it/s]"
      ]
     },
     "metadata": {},
     "output_type": "display_data"
    }
   ],
   "source": [
    "train_dataset = MCQDataset(f\"{QNA_DATA_DIR}/train/qna_expanded.pkl\")\n",
    "val_dataset = MCQDataset(f\"{QNA_DATA_DIR}/validation/qna_expanded.pkl\")"
   ]
  },
  {
   "cell_type": "code",
   "execution_count": 93,
   "metadata": {},
   "outputs": [],
   "source": [
    "from statistics import mean\n",
    "from tqdm.auto import tqdm\n",
    "from pathlib import Path\n",
    "from torch.nn import MSELoss\n",
    "import torch.nn as nn\n",
    "\n",
    "\n",
    "\n",
    "# code from https://github.com/shobrook/sequitur\n",
    "\n",
    "class Encoder(nn.Module):\n",
    "    def __init__(self, input_dim, out_dim, h_dims, h_activ, out_activ):\n",
    "        super(Encoder, self).__init__()\n",
    "\n",
    "        layer_dims = [input_dim] + h_dims + [out_dim]\n",
    "        self.num_layers = len(layer_dims) - 1\n",
    "        self.layers = nn.ModuleList()\n",
    "        for index in range(self.num_layers):\n",
    "            layer = nn.LSTM(\n",
    "                input_size=layer_dims[index],\n",
    "                hidden_size=layer_dims[index + 1],\n",
    "                num_layers=1,\n",
    "                batch_first=True,\n",
    "            )\n",
    "            self.layers.append(layer)\n",
    "\n",
    "        self.h_activ, self.out_activ = h_activ, out_activ\n",
    "\n",
    "    def forward(self, x):\n",
    "        x = x.unsqueeze(0)\n",
    "        for index, layer in enumerate(self.layers):\n",
    "            x, (h_n, c_n) = layer(x)\n",
    "\n",
    "            if self.h_activ and index < self.num_layers - 1:\n",
    "                x = self.h_activ(x)\n",
    "            elif self.out_activ and index == self.num_layers - 1:\n",
    "                return self.out_activ(h_n).squeeze()\n",
    "\n",
    "        return h_n.squeeze()\n",
    "\n",
    "\n",
    "class Decoder(nn.Module):\n",
    "    def __init__(self, input_dim, out_dim, h_dims, h_activ):\n",
    "        super(Decoder, self).__init__()\n",
    "\n",
    "        layer_dims = [input_dim] + h_dims + [h_dims[-1]]\n",
    "        self.num_layers = len(layer_dims) - 1\n",
    "        self.layers = nn.ModuleList()\n",
    "        for index in range(self.num_layers):\n",
    "            layer = nn.LSTM(\n",
    "                input_size=layer_dims[index],\n",
    "                hidden_size=layer_dims[index + 1],\n",
    "                num_layers=1,\n",
    "                batch_first=True,\n",
    "            )\n",
    "            self.layers.append(layer)\n",
    "\n",
    "        self.h_activ = h_activ\n",
    "        self.dense_matrix = nn.Parameter(\n",
    "            torch.rand((layer_dims[-1], out_dim), dtype=torch.float), requires_grad=True\n",
    "        )\n",
    "\n",
    "    def forward(self, x, seq_len):\n",
    "        x = x.repeat(seq_len, 1).unsqueeze(0)\n",
    "        for index, layer in enumerate(self.layers):\n",
    "            x, (h_n, c_n) = layer(x)\n",
    "\n",
    "            if self.h_activ and index < self.num_layers - 1:\n",
    "                x = self.h_activ(x)\n",
    "\n",
    "        return torch.mm(x.squeeze(0), self.dense_matrix)\n",
    "\n",
    "\n",
    "class LSTM_AE(nn.Module):\n",
    "    def __init__(\n",
    "        self,\n",
    "        input_dim,\n",
    "        encoding_dim,\n",
    "        h_dims=[],\n",
    "        h_activ=nn.Sigmoid(),\n",
    "        out_activ=nn.Tanh(),\n",
    "    ):\n",
    "        super(LSTM_AE, self).__init__()\n",
    "\n",
    "        self.encoder = Encoder(input_dim, encoding_dim, h_dims, h_activ, out_activ)\n",
    "        self.decoder = Decoder(encoding_dim, input_dim, h_dims[::-1], h_activ)\n",
    "\n",
    "    def forward(self, x):\n",
    "        seq_len = x.shape[0]\n",
    "        x = self.encoder(x)\n",
    "        x = self.decoder(x, seq_len)\n",
    "\n",
    "        return x\n",
    "\n",
    "\n",
    "def get_device():\n",
    "    return torch.device(\"cuda\" if torch.cuda.is_available() else \"cpu\")\n",
    "\n",
    "\n",
    "def instantiate_model(model, train_set, encoding_dim, **kwargs):\n",
    "    if model.__name__ in (\"LINEAR_AE\", \"LSTM_AE\"):\n",
    "        return model(train_set[-1].shape[-1], encoding_dim, **kwargs)\n",
    "    elif model.__name__ == \"CONV_LSTM_AE\":\n",
    "        if len(train_set[-1].shape) == 3:  # 2D elements\n",
    "            return model(train_set[-1].shape[-2:], encoding_dim, **kwargs)\n",
    "        elif len(train_set[-1].shape) == 4:  # 3D elements\n",
    "            return model(train_set[-1].shape[-3:], encoding_dim, **kwargs)\n",
    "\n",
    "@torch.no_grad()\n",
    "def validate_model(model, val_set, epoch, criterion, device):\n",
    "    model.eval()\n",
    "    \n",
    "    losses = []\n",
    "    a = 0\n",
    "    for x in tqdm(val_set, desc=f\"Val Epoch {epoch: 3d}\"):\n",
    "        if a > 100:\n",
    "            break\n",
    "        a+=1\n",
    "\n",
    "        x = x.to(device)\n",
    "        x_prime = model(x)\n",
    "        \n",
    "        loss = criterion(x_prime, x)\n",
    "        losses.append(loss.item())\n",
    "        \n",
    "    return mean(losses)\n",
    "        \n",
    "\n",
    "def train_model(\n",
    "    model, train_set, val_set, verbose, lr, epochs, denoise, clip_value, device=None, save_path=Path(\"./checkpoints\")\n",
    "):\n",
    "    if device is None:\n",
    "        device = get_device()\n",
    "    model.to(device)\n",
    "    optimizer = torch.optim.AdamW(model.parameters(), lr=lr)\n",
    "    criterion = MSELoss(reduction=\"sum\")\n",
    "\n",
    "    mean_losses = []\n",
    "    val_losses = []\n",
    "    for epoch in range(1, epochs + 1):\n",
    "        model.train()\n",
    "\n",
    "        # # Reduces learning rate every 50 epochs\n",
    "        # if not epoch % 50:\n",
    "        #     for param_group in optimizer.param_groups:\n",
    "        #         param_group[\"lr\"] = lr * (0.993 ** epoch)\n",
    "\n",
    "        losses = []\n",
    "\n",
    "        a = 0\n",
    "        for x in tqdm(train_set, desc=f\"Train Epoch {epoch: 3d}\"):\n",
    "            if a > 100:\n",
    "                break\n",
    "            a+=1\n",
    "\n",
    "            x = x.to(device, non_blocking=True)\n",
    "            \n",
    "            optimizer.zero_grad()\n",
    "\n",
    "            # Forward pass\n",
    "            x_prime = model(x)\n",
    "\n",
    "            loss = criterion(x_prime, x)\n",
    "\n",
    "            # Backward pass\n",
    "            loss.backward()\n",
    "           \n",
    "\n",
    "            # Gradient clipping on norm\n",
    "            if clip_value is not None:\n",
    "                torch.nn.utils.clip_grad_norm_(model.parameters(), clip_value)\n",
    "\n",
    "            optimizer.step()\n",
    "\n",
    "            losses.append(loss.item())\n",
    "\n",
    "        mean_loss = mean(losses)\n",
    "        mean_losses.append(mean_loss)\n",
    "        \n",
    "        torch.save(model.state_dict(), str(save_path / f\"model_{epoch:03d}.pt\"))\n",
    "\n",
    "        val_loss = validate_model(model, val_set, epoch, criterion, device)\n",
    "        val_losses.append(val_loss)\n",
    "        \n",
    "        if verbose:\n",
    "            print(f\"Epoch: {epoch}, Train loss: {mean_loss}, Validation Loss: {val_loss}\")\n",
    "\n",
    "    return mean_losses, val_losses\n",
    "\n",
    "\n",
    "@torch.no_grad()\n",
    "def get_encodings(model, train_set, device=None):\n",
    "    if device is None:\n",
    "        device = get_device()\n",
    "    model.eval()\n",
    "    encodings = [model.encoder(x.to(device)) for x in tqdm(train_set)]\n",
    "    return encodings\n",
    "\n",
    "\n",
    "######\n",
    "# MAIN\n",
    "######\n",
    "\n",
    "\n",
    "def quick_train(\n",
    "    model,\n",
    "    train_set,\n",
    "    val_set,\n",
    "    encoding_dim,\n",
    "    verbose=False,\n",
    "    lr=1e-3,\n",
    "    epochs=100,\n",
    "    clip_value=1,\n",
    "    denoise=False,\n",
    "    device=None,\n",
    "    save_path=Path(\"../../checkpoints\"),\n",
    "    **kwargs,\n",
    "):\n",
    "    model = instantiate_model(model, train_set, encoding_dim, **kwargs)\n",
    "\n",
    "    save_path.mkdir(parents=True, exist_ok=True)\n",
    "    train_losses, val_losses = train_model(\n",
    "        model, train_set, val_set, verbose, lr, epochs, denoise, clip_value, device, save_path\n",
    "    )\n",
    "\n",
    "    return model.encoder, model.decoder, train_losses, val_losses"
   ]
  },
  {
   "cell_type": "code",
   "execution_count": 104,
   "metadata": {},
   "outputs": [
    {
     "name": "stdout",
     "output_type": "stream",
     "text": [
      "=======================================\n",
      "TRAINING BEGINS\n",
      "seq_len: 10\n",
      "hidden_dims: 1\n",
      "=======================================\n",
      "cuda:0\n"
     ]
    },
    {
     "data": {
      "application/vnd.jupyter.widget-view+json": {
       "model_id": "88f3e5f20f74472c8ce92445befb3335",
       "version_major": 2,
       "version_minor": 0
      },
      "text/plain": [
       "Train Epoch   1:   0%|          | 0/168748 [00:00<?, ?it/s]"
      ]
     },
     "metadata": {},
     "output_type": "display_data"
    },
    {
     "data": {
      "application/vnd.jupyter.widget-view+json": {
       "model_id": "ff8e71bfaff146fb8bce1ff977a6777b",
       "version_major": 2,
       "version_minor": 0
      },
      "text/plain": [
       "Val Epoch   1:   0%|          | 0/19488 [00:00<?, ?it/s]"
      ]
     },
     "metadata": {},
     "output_type": "display_data"
    },
    {
     "name": "stdout",
     "output_type": "stream",
     "text": [
      "Epoch: 1, Train loss: 11258.72031053222, Validation Loss: 61.817105604870484\n"
     ]
    },
    {
     "data": {
      "application/vnd.jupyter.widget-view+json": {
       "model_id": "9228fb13bb694ef78ecc9dff4d039a08",
       "version_major": 2,
       "version_minor": 0
      },
      "text/plain": [
       "Train Epoch   2:   0%|          | 0/168748 [00:00<?, ?it/s]"
      ]
     },
     "metadata": {},
     "output_type": "display_data"
    },
    {
     "data": {
      "application/vnd.jupyter.widget-view+json": {
       "model_id": "fdc276e74eaf4d1883bc33251a2f60c7",
       "version_major": 2,
       "version_minor": 0
      },
      "text/plain": [
       "Val Epoch   2:   0%|          | 0/19488 [00:00<?, ?it/s]"
      ]
     },
     "metadata": {},
     "output_type": "display_data"
    },
    {
     "name": "stdout",
     "output_type": "stream",
     "text": [
      "Epoch: 2, Train loss: 170.40970696553146, Validation Loss: 52.35193657639003\n"
     ]
    },
    {
     "data": {
      "application/vnd.jupyter.widget-view+json": {
       "model_id": "f248b99c2507418ca892611cb1920db2",
       "version_major": 2,
       "version_minor": 0
      },
      "text/plain": [
       "Train Epoch   3:   0%|          | 0/168748 [00:00<?, ?it/s]"
      ]
     },
     "metadata": {},
     "output_type": "display_data"
    },
    {
     "data": {
      "application/vnd.jupyter.widget-view+json": {
       "model_id": "d5a9b56ae28e48a1982e7c1f8ff1b891",
       "version_major": 2,
       "version_minor": 0
      },
      "text/plain": [
       "Val Epoch   3:   0%|          | 0/19488 [00:00<?, ?it/s]"
      ]
     },
     "metadata": {},
     "output_type": "display_data"
    },
    {
     "name": "stdout",
     "output_type": "stream",
     "text": [
      "Epoch: 3, Train loss: 135.20037634065835, Validation Loss: 50.80208467729021\n",
      "=======================================\n",
      "TRAINING BEGINS\n",
      "seq_len: 10\n",
      "hidden_dims: 2\n",
      "=======================================\n",
      "cuda:0\n"
     ]
    },
    {
     "data": {
      "application/vnd.jupyter.widget-view+json": {
       "model_id": "6aa1e72426584a659387fd999128609e",
       "version_major": 2,
       "version_minor": 0
      },
      "text/plain": [
       "Train Epoch   1:   0%|          | 0/168748 [00:00<?, ?it/s]"
      ]
     },
     "metadata": {},
     "output_type": "display_data"
    },
    {
     "data": {
      "application/vnd.jupyter.widget-view+json": {
       "model_id": "d2234615a57e47238860c8bbc029db31",
       "version_major": 2,
       "version_minor": 0
      },
      "text/plain": [
       "Val Epoch   1:   0%|          | 0/19488 [00:00<?, ?it/s]"
      ]
     },
     "metadata": {},
     "output_type": "display_data"
    },
    {
     "name": "stdout",
     "output_type": "stream",
     "text": [
      "Epoch: 1, Train loss: 12484.276130393, Validation Loss: 60.65117969135247\n"
     ]
    },
    {
     "data": {
      "application/vnd.jupyter.widget-view+json": {
       "model_id": "6d032aba918f4c4c98f0bfb17e40b945",
       "version_major": 2,
       "version_minor": 0
      },
      "text/plain": [
       "Train Epoch   2:   0%|          | 0/168748 [00:00<?, ?it/s]"
      ]
     },
     "metadata": {},
     "output_type": "display_data"
    },
    {
     "data": {
      "application/vnd.jupyter.widget-view+json": {
       "model_id": "c5aa5ec5550e472ebc86cb38bb3bd7be",
       "version_major": 2,
       "version_minor": 0
      },
      "text/plain": [
       "Val Epoch   2:   0%|          | 0/19488 [00:00<?, ?it/s]"
      ]
     },
     "metadata": {},
     "output_type": "display_data"
    },
    {
     "name": "stdout",
     "output_type": "stream",
     "text": [
      "Epoch: 2, Train loss: 146.4479677747972, Validation Loss: 48.93732961333624\n"
     ]
    },
    {
     "data": {
      "application/vnd.jupyter.widget-view+json": {
       "model_id": "977904c4af0348bcb8362eb7dff43afa",
       "version_major": 2,
       "version_minor": 0
      },
      "text/plain": [
       "Train Epoch   3:   0%|          | 0/168748 [00:00<?, ?it/s]"
      ]
     },
     "metadata": {},
     "output_type": "display_data"
    },
    {
     "data": {
      "application/vnd.jupyter.widget-view+json": {
       "model_id": "82c23f3d1e574b419a22a7fd0dc42e68",
       "version_major": 2,
       "version_minor": 0
      },
      "text/plain": [
       "Val Epoch   3:   0%|          | 0/19488 [00:00<?, ?it/s]"
      ]
     },
     "metadata": {},
     "output_type": "display_data"
    },
    {
     "name": "stdout",
     "output_type": "stream",
     "text": [
      "Epoch: 3, Train loss: 129.91884482733093, Validation Loss: 49.66298193978791\n",
      "=======================================\n",
      "TRAINING BEGINS\n",
      "seq_len: 10\n",
      "hidden_dims: 3\n",
      "=======================================\n",
      "cuda:0\n"
     ]
    },
    {
     "data": {
      "application/vnd.jupyter.widget-view+json": {
       "model_id": "22c2654b1ae14a62b4d94cfe21181d83",
       "version_major": 2,
       "version_minor": 0
      },
      "text/plain": [
       "Train Epoch   1:   0%|          | 0/168748 [00:00<?, ?it/s]"
      ]
     },
     "metadata": {},
     "output_type": "display_data"
    },
    {
     "data": {
      "application/vnd.jupyter.widget-view+json": {
       "model_id": "f29ad2364e7e4ef6a817b4d5034f7c8a",
       "version_major": 2,
       "version_minor": 0
      },
      "text/plain": [
       "Val Epoch   1:   0%|          | 0/19488 [00:00<?, ?it/s]"
      ]
     },
     "metadata": {},
     "output_type": "display_data"
    },
    {
     "name": "stdout",
     "output_type": "stream",
     "text": [
      "Epoch: 1, Train loss: 11014.353128112189, Validation Loss: 59.94092451227773\n"
     ]
    },
    {
     "data": {
      "application/vnd.jupyter.widget-view+json": {
       "model_id": "b184a3adbe59495ba799390ac8babb71",
       "version_major": 2,
       "version_minor": 0
      },
      "text/plain": [
       "Train Epoch   2:   0%|          | 0/168748 [00:00<?, ?it/s]"
      ]
     },
     "metadata": {},
     "output_type": "display_data"
    },
    {
     "data": {
      "application/vnd.jupyter.widget-view+json": {
       "model_id": "f46838f7fe254189b2cd75347fa60cce",
       "version_major": 2,
       "version_minor": 0
      },
      "text/plain": [
       "Val Epoch   2:   0%|          | 0/19488 [00:00<?, ?it/s]"
      ]
     },
     "metadata": {},
     "output_type": "display_data"
    },
    {
     "name": "stdout",
     "output_type": "stream",
     "text": [
      "Epoch: 2, Train loss: 135.11463803584033, Validation Loss: 47.83656838860842\n"
     ]
    },
    {
     "data": {
      "application/vnd.jupyter.widget-view+json": {
       "model_id": "3e7fff9ce261492a842d546e4ae0987e",
       "version_major": 2,
       "version_minor": 0
      },
      "text/plain": [
       "Train Epoch   3:   0%|          | 0/168748 [00:00<?, ?it/s]"
      ]
     },
     "metadata": {},
     "output_type": "display_data"
    },
    {
     "data": {
      "application/vnd.jupyter.widget-view+json": {
       "model_id": "16881d9dbf3c4f278e7591719c14a5e0",
       "version_major": 2,
       "version_minor": 0
      },
      "text/plain": [
       "Val Epoch   3:   0%|          | 0/19488 [00:00<?, ?it/s]"
      ]
     },
     "metadata": {},
     "output_type": "display_data"
    },
    {
     "name": "stdout",
     "output_type": "stream",
     "text": [
      "Epoch: 3, Train loss: 126.68687318103149, Validation Loss: 60.8347278160624\n",
      "=======================================\n",
      "TRAINING BEGINS\n",
      "seq_len: 20\n",
      "hidden_dims: 1\n",
      "=======================================\n",
      "cuda:0\n"
     ]
    },
    {
     "data": {
      "application/vnd.jupyter.widget-view+json": {
       "model_id": "b7c7e507251748b9870928131fcad81c",
       "version_major": 2,
       "version_minor": 0
      },
      "text/plain": [
       "Train Epoch   1:   0%|          | 0/168748 [00:00<?, ?it/s]"
      ]
     },
     "metadata": {},
     "output_type": "display_data"
    },
    {
     "data": {
      "application/vnd.jupyter.widget-view+json": {
       "model_id": "44b5d2b8e7be4d3a85ad7ee200cc7ed9",
       "version_major": 2,
       "version_minor": 0
      },
      "text/plain": [
       "Val Epoch   1:   0%|          | 0/19488 [00:00<?, ?it/s]"
      ]
     },
     "metadata": {},
     "output_type": "display_data"
    },
    {
     "name": "stdout",
     "output_type": "stream",
     "text": [
      "Epoch: 1, Train loss: 12145.325727764923, Validation Loss: 94.27820400200268\n"
     ]
    },
    {
     "data": {
      "application/vnd.jupyter.widget-view+json": {
       "model_id": "0ebb155ed5254193a31e0615cabe4428",
       "version_major": 2,
       "version_minor": 0
      },
      "text/plain": [
       "Train Epoch   2:   0%|          | 0/168748 [00:00<?, ?it/s]"
      ]
     },
     "metadata": {},
     "output_type": "display_data"
    },
    {
     "data": {
      "application/vnd.jupyter.widget-view+json": {
       "model_id": "7fadfc55fdac4aeb9279064e0d233fda",
       "version_major": 2,
       "version_minor": 0
      },
      "text/plain": [
       "Val Epoch   2:   0%|          | 0/19488 [00:00<?, ?it/s]"
      ]
     },
     "metadata": {},
     "output_type": "display_data"
    },
    {
     "name": "stdout",
     "output_type": "stream",
     "text": [
      "Epoch: 2, Train loss: 190.36309727583782, Validation Loss: 50.24255547665133\n"
     ]
    },
    {
     "data": {
      "application/vnd.jupyter.widget-view+json": {
       "model_id": "3958012aae42469f98747086fb794d15",
       "version_major": 2,
       "version_minor": 0
      },
      "text/plain": [
       "Train Epoch   3:   0%|          | 0/168748 [00:00<?, ?it/s]"
      ]
     },
     "metadata": {},
     "output_type": "display_data"
    },
    {
     "data": {
      "application/vnd.jupyter.widget-view+json": {
       "model_id": "cb6a935b7c164ed2bbbf7cd955c69b2a",
       "version_major": 2,
       "version_minor": 0
      },
      "text/plain": [
       "Val Epoch   3:   0%|          | 0/19488 [00:00<?, ?it/s]"
      ]
     },
     "metadata": {},
     "output_type": "display_data"
    },
    {
     "name": "stdout",
     "output_type": "stream",
     "text": [
      "Epoch: 3, Train loss: 218.26705074310303, Validation Loss: 49.27538899147864\n",
      "=======================================\n",
      "TRAINING BEGINS\n",
      "seq_len: 20\n",
      "hidden_dims: 2\n",
      "=======================================\n",
      "cuda:0\n"
     ]
    },
    {
     "data": {
      "application/vnd.jupyter.widget-view+json": {
       "model_id": "f5fc3157ecaa4d25a36cb2f79adcef16",
       "version_major": 2,
       "version_minor": 0
      },
      "text/plain": [
       "Train Epoch   1:   0%|          | 0/168748 [00:00<?, ?it/s]"
      ]
     },
     "metadata": {},
     "output_type": "display_data"
    },
    {
     "data": {
      "application/vnd.jupyter.widget-view+json": {
       "model_id": "e6a3a11ef9e740eba0641e5315fac390",
       "version_major": 2,
       "version_minor": 0
      },
      "text/plain": [
       "Val Epoch   1:   0%|          | 0/19488 [00:00<?, ?it/s]"
      ]
     },
     "metadata": {},
     "output_type": "display_data"
    },
    {
     "name": "stdout",
     "output_type": "stream",
     "text": [
      "Epoch: 1, Train loss: 11877.202767929228, Validation Loss: 65.39093977862065\n"
     ]
    },
    {
     "data": {
      "application/vnd.jupyter.widget-view+json": {
       "model_id": "074fd4601d5c48d786d514344450244d",
       "version_major": 2,
       "version_minor": 0
      },
      "text/plain": [
       "Train Epoch   2:   0%|          | 0/168748 [00:00<?, ?it/s]"
      ]
     },
     "metadata": {},
     "output_type": "display_data"
    },
    {
     "data": {
      "application/vnd.jupyter.widget-view+json": {
       "model_id": "53271e790756411199383b0db308d58c",
       "version_major": 2,
       "version_minor": 0
      },
      "text/plain": [
       "Val Epoch   2:   0%|          | 0/19488 [00:00<?, ?it/s]"
      ]
     },
     "metadata": {},
     "output_type": "display_data"
    },
    {
     "name": "stdout",
     "output_type": "stream",
     "text": [
      "Epoch: 2, Train loss: 211.77917471970662, Validation Loss: 48.71565036962528\n"
     ]
    },
    {
     "data": {
      "application/vnd.jupyter.widget-view+json": {
       "model_id": "c40a074491df4338b737be08eb1111d4",
       "version_major": 2,
       "version_minor": 0
      },
      "text/plain": [
       "Train Epoch   3:   0%|          | 0/168748 [00:00<?, ?it/s]"
      ]
     },
     "metadata": {},
     "output_type": "display_data"
    },
    {
     "data": {
      "application/vnd.jupyter.widget-view+json": {
       "model_id": "e6ead24f2bd74068b061b1c44a6098b1",
       "version_major": 2,
       "version_minor": 0
      },
      "text/plain": [
       "Val Epoch   3:   0%|          | 0/19488 [00:00<?, ?it/s]"
      ]
     },
     "metadata": {},
     "output_type": "display_data"
    },
    {
     "name": "stdout",
     "output_type": "stream",
     "text": [
      "Epoch: 3, Train loss: 196.87376992065128, Validation Loss: 49.5326124512323\n",
      "=======================================\n",
      "TRAINING BEGINS\n",
      "seq_len: 20\n",
      "hidden_dims: 3\n",
      "=======================================\n",
      "cuda:0\n"
     ]
    },
    {
     "data": {
      "application/vnd.jupyter.widget-view+json": {
       "model_id": "2d19bfad202a4c528176e994ee5e3495",
       "version_major": 2,
       "version_minor": 0
      },
      "text/plain": [
       "Train Epoch   1:   0%|          | 0/168748 [00:00<?, ?it/s]"
      ]
     },
     "metadata": {},
     "output_type": "display_data"
    },
    {
     "data": {
      "application/vnd.jupyter.widget-view+json": {
       "model_id": "5b948a07501d45ca8f220479b2e87052",
       "version_major": 2,
       "version_minor": 0
      },
      "text/plain": [
       "Val Epoch   1:   0%|          | 0/19488 [00:00<?, ?it/s]"
      ]
     },
     "metadata": {},
     "output_type": "display_data"
    },
    {
     "name": "stdout",
     "output_type": "stream",
     "text": [
      "Epoch: 1, Train loss: 10272.905362667423, Validation Loss: 51.129399337390865\n"
     ]
    },
    {
     "data": {
      "application/vnd.jupyter.widget-view+json": {
       "model_id": "c2b8696b276a4356aa4be9ca550845eb",
       "version_major": 2,
       "version_minor": 0
      },
      "text/plain": [
       "Train Epoch   2:   0%|          | 0/168748 [00:00<?, ?it/s]"
      ]
     },
     "metadata": {},
     "output_type": "display_data"
    },
    {
     "data": {
      "application/vnd.jupyter.widget-view+json": {
       "model_id": "4f88a62843b24e2da5f38f067231580d",
       "version_major": 2,
       "version_minor": 0
      },
      "text/plain": [
       "Val Epoch   2:   0%|          | 0/19488 [00:00<?, ?it/s]"
      ]
     },
     "metadata": {},
     "output_type": "display_data"
    },
    {
     "name": "stdout",
     "output_type": "stream",
     "text": [
      "Epoch: 2, Train loss: 190.11639707395346, Validation Loss: 47.62943597359232\n"
     ]
    },
    {
     "data": {
      "application/vnd.jupyter.widget-view+json": {
       "model_id": "b8cd71d94f0f40bbaec2fb347d25e0ce",
       "version_major": 2,
       "version_minor": 0
      },
      "text/plain": [
       "Train Epoch   3:   0%|          | 0/168748 [00:00<?, ?it/s]"
      ]
     },
     "metadata": {},
     "output_type": "display_data"
    },
    {
     "data": {
      "application/vnd.jupyter.widget-view+json": {
       "model_id": "8357f9057e6748e498c617ad714110da",
       "version_major": 2,
       "version_minor": 0
      },
      "text/plain": [
       "Val Epoch   3:   0%|          | 0/19488 [00:00<?, ?it/s]"
      ]
     },
     "metadata": {},
     "output_type": "display_data"
    },
    {
     "name": "stdout",
     "output_type": "stream",
     "text": [
      "Epoch: 3, Train loss: 186.54348382855406, Validation Loss: 50.59294982947925\n",
      "=======================================\n",
      "TRAINING BEGINS\n",
      "seq_len: 30\n",
      "hidden_dims: 1\n",
      "=======================================\n",
      "cuda:0\n"
     ]
    },
    {
     "data": {
      "application/vnd.jupyter.widget-view+json": {
       "model_id": "f10114af2a9c496aacd3a3cae8b79251",
       "version_major": 2,
       "version_minor": 0
      },
      "text/plain": [
       "Train Epoch   1:   0%|          | 0/168748 [00:00<?, ?it/s]"
      ]
     },
     "metadata": {},
     "output_type": "display_data"
    },
    {
     "data": {
      "application/vnd.jupyter.widget-view+json": {
       "model_id": "ffdee913dccc4fedb144803a0ac49418",
       "version_major": 2,
       "version_minor": 0
      },
      "text/plain": [
       "Val Epoch   1:   0%|          | 0/19488 [00:00<?, ?it/s]"
      ]
     },
     "metadata": {},
     "output_type": "display_data"
    },
    {
     "name": "stdout",
     "output_type": "stream",
     "text": [
      "Epoch: 1, Train loss: 12514.854446373363, Validation Loss: 73.0844548291499\n"
     ]
    },
    {
     "data": {
      "application/vnd.jupyter.widget-view+json": {
       "model_id": "1eee3ab250854e8ea71dd922e571b5eb",
       "version_major": 2,
       "version_minor": 0
      },
      "text/plain": [
       "Train Epoch   2:   0%|          | 0/168748 [00:00<?, ?it/s]"
      ]
     },
     "metadata": {},
     "output_type": "display_data"
    },
    {
     "data": {
      "application/vnd.jupyter.widget-view+json": {
       "model_id": "2cd710727bdd4f4a8b478ead50a3b3d9",
       "version_major": 2,
       "version_minor": 0
      },
      "text/plain": [
       "Val Epoch   2:   0%|          | 0/19488 [00:00<?, ?it/s]"
      ]
     },
     "metadata": {},
     "output_type": "display_data"
    },
    {
     "name": "stdout",
     "output_type": "stream",
     "text": [
      "Epoch: 2, Train loss: 321.38445026095553, Validation Loss: 52.56680707648249\n"
     ]
    },
    {
     "data": {
      "application/vnd.jupyter.widget-view+json": {
       "model_id": "bcf3552f3f274e70a026cdb4fb17d344",
       "version_major": 2,
       "version_minor": 0
      },
      "text/plain": [
       "Train Epoch   3:   0%|          | 0/168748 [00:00<?, ?it/s]"
      ]
     },
     "metadata": {},
     "output_type": "display_data"
    },
    {
     "data": {
      "application/vnd.jupyter.widget-view+json": {
       "model_id": "690496c1d9bb452cb2bc4bec58e0361d",
       "version_major": 2,
       "version_minor": 0
      },
      "text/plain": [
       "Val Epoch   3:   0%|          | 0/19488 [00:00<?, ?it/s]"
      ]
     },
     "metadata": {},
     "output_type": "display_data"
    },
    {
     "name": "stdout",
     "output_type": "stream",
     "text": [
      "Epoch: 3, Train loss: 219.57464759184583, Validation Loss: 49.38494823002579\n",
      "=======================================\n",
      "TRAINING BEGINS\n",
      "seq_len: 30\n",
      "hidden_dims: 2\n",
      "=======================================\n",
      "cuda:0\n"
     ]
    },
    {
     "data": {
      "application/vnd.jupyter.widget-view+json": {
       "model_id": "dc1877ad6d00444280bf69f72573300b",
       "version_major": 2,
       "version_minor": 0
      },
      "text/plain": [
       "Train Epoch   1:   0%|          | 0/168748 [00:00<?, ?it/s]"
      ]
     },
     "metadata": {},
     "output_type": "display_data"
    },
    {
     "data": {
      "application/vnd.jupyter.widget-view+json": {
       "model_id": "2743faf2dfbe4ba394067e30550a0c6c",
       "version_major": 2,
       "version_minor": 0
      },
      "text/plain": [
       "Val Epoch   1:   0%|          | 0/19488 [00:00<?, ?it/s]"
      ]
     },
     "metadata": {},
     "output_type": "display_data"
    },
    {
     "name": "stdout",
     "output_type": "stream",
     "text": [
      "Epoch: 1, Train loss: 10541.774037540548, Validation Loss: 73.88766489878739\n"
     ]
    },
    {
     "data": {
      "application/vnd.jupyter.widget-view+json": {
       "model_id": "637a054da0cd4ff885ec24460faaba30",
       "version_major": 2,
       "version_minor": 0
      },
      "text/plain": [
       "Train Epoch   2:   0%|          | 0/168748 [00:00<?, ?it/s]"
      ]
     },
     "metadata": {},
     "output_type": "display_data"
    },
    {
     "data": {
      "application/vnd.jupyter.widget-view+json": {
       "model_id": "b5f1ecc448b34a0c9d99d99dabc0d021",
       "version_major": 2,
       "version_minor": 0
      },
      "text/plain": [
       "Val Epoch   2:   0%|          | 0/19488 [00:00<?, ?it/s]"
      ]
     },
     "metadata": {},
     "output_type": "display_data"
    },
    {
     "name": "stdout",
     "output_type": "stream",
     "text": [
      "Epoch: 2, Train loss: 253.66653453713596, Validation Loss: 48.30470933064376\n"
     ]
    },
    {
     "data": {
      "application/vnd.jupyter.widget-view+json": {
       "model_id": "97bb524b2c07462ba70b7b7d11be3255",
       "version_major": 2,
       "version_minor": 0
      },
      "text/plain": [
       "Train Epoch   3:   0%|          | 0/168748 [00:00<?, ?it/s]"
      ]
     },
     "metadata": {},
     "output_type": "display_data"
    },
    {
     "data": {
      "application/vnd.jupyter.widget-view+json": {
       "model_id": "0a757a5cff7a45ccafa9a07df9cbfa5f",
       "version_major": 2,
       "version_minor": 0
      },
      "text/plain": [
       "Val Epoch   3:   0%|          | 0/19488 [00:00<?, ?it/s]"
      ]
     },
     "metadata": {},
     "output_type": "display_data"
    },
    {
     "name": "stdout",
     "output_type": "stream",
     "text": [
      "Epoch: 3, Train loss: 228.12920840423885, Validation Loss: 50.00126055915757\n",
      "=======================================\n",
      "TRAINING BEGINS\n",
      "seq_len: 30\n",
      "hidden_dims: 3\n",
      "=======================================\n",
      "cuda:0\n"
     ]
    },
    {
     "data": {
      "application/vnd.jupyter.widget-view+json": {
       "model_id": "ea1329818dc14b18a6f8952577a19c91",
       "version_major": 2,
       "version_minor": 0
      },
      "text/plain": [
       "Train Epoch   1:   0%|          | 0/168748 [00:00<?, ?it/s]"
      ]
     },
     "metadata": {},
     "output_type": "display_data"
    },
    {
     "data": {
      "application/vnd.jupyter.widget-view+json": {
       "model_id": "9651e1a849f74527b22fa58207534c25",
       "version_major": 2,
       "version_minor": 0
      },
      "text/plain": [
       "Val Epoch   1:   0%|          | 0/19488 [00:00<?, ?it/s]"
      ]
     },
     "metadata": {},
     "output_type": "display_data"
    },
    {
     "name": "stdout",
     "output_type": "stream",
     "text": [
      "Epoch: 1, Train loss: 12793.261514342657, Validation Loss: 52.46050340822428\n"
     ]
    },
    {
     "data": {
      "application/vnd.jupyter.widget-view+json": {
       "model_id": "df85ba2193c448c382faeb7bb65b7135",
       "version_major": 2,
       "version_minor": 0
      },
      "text/plain": [
       "Train Epoch   2:   0%|          | 0/168748 [00:00<?, ?it/s]"
      ]
     },
     "metadata": {},
     "output_type": "display_data"
    },
    {
     "data": {
      "application/vnd.jupyter.widget-view+json": {
       "model_id": "4774efdc311f401ab7fc5c393be1ca3f",
       "version_major": 2,
       "version_minor": 0
      },
      "text/plain": [
       "Val Epoch   2:   0%|          | 0/19488 [00:00<?, ?it/s]"
      ]
     },
     "metadata": {},
     "output_type": "display_data"
    },
    {
     "name": "stdout",
     "output_type": "stream",
     "text": [
      "Epoch: 2, Train loss: 224.85624862897515, Validation Loss: 49.124207949874425\n"
     ]
    },
    {
     "data": {
      "application/vnd.jupyter.widget-view+json": {
       "model_id": "35f14af4e0c3425eb19521fbd989e33d",
       "version_major": 2,
       "version_minor": 0
      },
      "text/plain": [
       "Train Epoch   3:   0%|          | 0/168748 [00:00<?, ?it/s]"
      ]
     },
     "metadata": {},
     "output_type": "display_data"
    },
    {
     "data": {
      "application/vnd.jupyter.widget-view+json": {
       "model_id": "311c4e0d6f1a41f9a360ebd7ef593019",
       "version_major": 2,
       "version_minor": 0
      },
      "text/plain": [
       "Val Epoch   3:   0%|          | 0/19488 [00:00<?, ?it/s]"
      ]
     },
     "metadata": {},
     "output_type": "display_data"
    },
    {
     "name": "stdout",
     "output_type": "stream",
     "text": [
      "Epoch: 3, Train loss: 217.86550960918464, Validation Loss: 48.63361523883177\n",
      "=======================================\n",
      "TRAINING BEGINS\n",
      "seq_len: 40\n",
      "hidden_dims: 1\n",
      "=======================================\n",
      "cuda:0\n"
     ]
    },
    {
     "data": {
      "application/vnd.jupyter.widget-view+json": {
       "model_id": "92ea730ac7cc4e9cbce77e3697a342d9",
       "version_major": 2,
       "version_minor": 0
      },
      "text/plain": [
       "Train Epoch   1:   0%|          | 0/168748 [00:00<?, ?it/s]"
      ]
     },
     "metadata": {},
     "output_type": "display_data"
    },
    {
     "data": {
      "application/vnd.jupyter.widget-view+json": {
       "model_id": "ef3308cbd1554119aa9d9aa6de432392",
       "version_major": 2,
       "version_minor": 0
      },
      "text/plain": [
       "Val Epoch   1:   0%|          | 0/19488 [00:00<?, ?it/s]"
      ]
     },
     "metadata": {},
     "output_type": "display_data"
    },
    {
     "name": "stdout",
     "output_type": "stream",
     "text": [
      "Epoch: 1, Train loss: 13060.10839734219, Validation Loss: 86.71029272173891\n"
     ]
    },
    {
     "data": {
      "application/vnd.jupyter.widget-view+json": {
       "model_id": "7ee59abee63243c498f46e8dc934136f",
       "version_major": 2,
       "version_minor": 0
      },
      "text/plain": [
       "Train Epoch   2:   0%|          | 0/168748 [00:00<?, ?it/s]"
      ]
     },
     "metadata": {},
     "output_type": "display_data"
    },
    {
     "data": {
      "application/vnd.jupyter.widget-view+json": {
       "model_id": "c4d8fcf570884ba58ef094ed0f6c80bc",
       "version_major": 2,
       "version_minor": 0
      },
      "text/plain": [
       "Val Epoch   2:   0%|          | 0/19488 [00:00<?, ?it/s]"
      ]
     },
     "metadata": {},
     "output_type": "display_data"
    },
    {
     "name": "stdout",
     "output_type": "stream",
     "text": [
      "Epoch: 2, Train loss: 272.7800179472064, Validation Loss: 48.84786611500353\n"
     ]
    },
    {
     "data": {
      "application/vnd.jupyter.widget-view+json": {
       "model_id": "f53ba2af5e8d4666b3a20f275b9ab966",
       "version_major": 2,
       "version_minor": 0
      },
      "text/plain": [
       "Train Epoch   3:   0%|          | 0/168748 [00:00<?, ?it/s]"
      ]
     },
     "metadata": {},
     "output_type": "display_data"
    },
    {
     "data": {
      "application/vnd.jupyter.widget-view+json": {
       "model_id": "f7766a4b1358462f84ca2393ba45b41f",
       "version_major": 2,
       "version_minor": 0
      },
      "text/plain": [
       "Val Epoch   3:   0%|          | 0/19488 [00:00<?, ?it/s]"
      ]
     },
     "metadata": {},
     "output_type": "display_data"
    },
    {
     "name": "stdout",
     "output_type": "stream",
     "text": [
      "Epoch: 3, Train loss: 239.4722224509362, Validation Loss: 48.62314623653299\n",
      "=======================================\n",
      "TRAINING BEGINS\n",
      "seq_len: 40\n",
      "hidden_dims: 2\n",
      "=======================================\n",
      "cuda:0\n"
     ]
    },
    {
     "data": {
      "application/vnd.jupyter.widget-view+json": {
       "model_id": "ec0905c84db74f4ea50119352a897954",
       "version_major": 2,
       "version_minor": 0
      },
      "text/plain": [
       "Train Epoch   1:   0%|          | 0/168748 [00:00<?, ?it/s]"
      ]
     },
     "metadata": {},
     "output_type": "display_data"
    },
    {
     "data": {
      "application/vnd.jupyter.widget-view+json": {
       "model_id": "345d815f61a047a195134ed7c62b0562",
       "version_major": 2,
       "version_minor": 0
      },
      "text/plain": [
       "Val Epoch   1:   0%|          | 0/19488 [00:00<?, ?it/s]"
      ]
     },
     "metadata": {},
     "output_type": "display_data"
    },
    {
     "name": "stdout",
     "output_type": "stream",
     "text": [
      "Epoch: 1, Train loss: 12148.85038687451, Validation Loss: 88.8094997972545\n"
     ]
    },
    {
     "data": {
      "application/vnd.jupyter.widget-view+json": {
       "model_id": "6ab121d1f6cd496dbd0d4095c37aca36",
       "version_major": 2,
       "version_minor": 0
      },
      "text/plain": [
       "Train Epoch   2:   0%|          | 0/168748 [00:00<?, ?it/s]"
      ]
     },
     "metadata": {},
     "output_type": "display_data"
    },
    {
     "data": {
      "application/vnd.jupyter.widget-view+json": {
       "model_id": "3c65680758504d30bec846a7f10f44e5",
       "version_major": 2,
       "version_minor": 0
      },
      "text/plain": [
       "Val Epoch   2:   0%|          | 0/19488 [00:00<?, ?it/s]"
      ]
     },
     "metadata": {},
     "output_type": "display_data"
    },
    {
     "name": "stdout",
     "output_type": "stream",
     "text": [
      "Epoch: 2, Train loss: 274.2436141023542, Validation Loss: 51.260244681103394\n"
     ]
    },
    {
     "data": {
      "application/vnd.jupyter.widget-view+json": {
       "model_id": "6d9160d466724f3197e8d65333964e65",
       "version_major": 2,
       "version_minor": 0
      },
      "text/plain": [
       "Train Epoch   3:   0%|          | 0/168748 [00:00<?, ?it/s]"
      ]
     },
     "metadata": {},
     "output_type": "display_data"
    },
    {
     "data": {
      "application/vnd.jupyter.widget-view+json": {
       "model_id": "831ef7d5a1f04fab960f880a036e9f81",
       "version_major": 2,
       "version_minor": 0
      },
      "text/plain": [
       "Val Epoch   3:   0%|          | 0/19488 [00:00<?, ?it/s]"
      ]
     },
     "metadata": {},
     "output_type": "display_data"
    },
    {
     "name": "stdout",
     "output_type": "stream",
     "text": [
      "Epoch: 3, Train loss: 277.23722692055276, Validation Loss: 48.75203793591792\n",
      "=======================================\n",
      "TRAINING BEGINS\n",
      "seq_len: 40\n",
      "hidden_dims: 3\n",
      "=======================================\n",
      "cuda:0\n"
     ]
    },
    {
     "data": {
      "application/vnd.jupyter.widget-view+json": {
       "model_id": "a9728ed9aa3a4d1fb228d94e9a0a4d88",
       "version_major": 2,
       "version_minor": 0
      },
      "text/plain": [
       "Train Epoch   1:   0%|          | 0/168748 [00:00<?, ?it/s]"
      ]
     },
     "metadata": {},
     "output_type": "display_data"
    },
    {
     "data": {
      "application/vnd.jupyter.widget-view+json": {
       "model_id": "e291990670cf4598bfe1db7c902af366",
       "version_major": 2,
       "version_minor": 0
      },
      "text/plain": [
       "Val Epoch   1:   0%|          | 0/19488 [00:00<?, ?it/s]"
      ]
     },
     "metadata": {},
     "output_type": "display_data"
    },
    {
     "name": "stdout",
     "output_type": "stream",
     "text": [
      "Epoch: 1, Train loss: 12478.266983938689, Validation Loss: 55.128254135056295\n"
     ]
    },
    {
     "data": {
      "application/vnd.jupyter.widget-view+json": {
       "model_id": "4da77ccff0e74a6e96952be7468c71e4",
       "version_major": 2,
       "version_minor": 0
      },
      "text/plain": [
       "Train Epoch   2:   0%|          | 0/168748 [00:00<?, ?it/s]"
      ]
     },
     "metadata": {},
     "output_type": "display_data"
    },
    {
     "data": {
      "application/vnd.jupyter.widget-view+json": {
       "model_id": "07c4e47ba7c4406b90cd879185b5124a",
       "version_major": 2,
       "version_minor": 0
      },
      "text/plain": [
       "Val Epoch   2:   0%|          | 0/19488 [00:00<?, ?it/s]"
      ]
     },
     "metadata": {},
     "output_type": "display_data"
    },
    {
     "name": "stdout",
     "output_type": "stream",
     "text": [
      "Epoch: 2, Train loss: 267.947245116281, Validation Loss: 50.21764753360559\n"
     ]
    },
    {
     "data": {
      "application/vnd.jupyter.widget-view+json": {
       "model_id": "8226701fa3d1411286b0c138a6c7f83b",
       "version_major": 2,
       "version_minor": 0
      },
      "text/plain": [
       "Train Epoch   3:   0%|          | 0/168748 [00:00<?, ?it/s]"
      ]
     },
     "metadata": {},
     "output_type": "display_data"
    },
    {
     "data": {
      "application/vnd.jupyter.widget-view+json": {
       "model_id": "f583124ea307440caa1596634b700577",
       "version_major": 2,
       "version_minor": 0
      },
      "text/plain": [
       "Val Epoch   3:   0%|          | 0/19488 [00:00<?, ?it/s]"
      ]
     },
     "metadata": {},
     "output_type": "display_data"
    },
    {
     "name": "stdout",
     "output_type": "stream",
     "text": [
      "Epoch: 3, Train loss: 245.79116160326666, Validation Loss: 51.1650497039946\n"
     ]
    }
   ],
   "source": [
    "trains = []\n",
    "vals = []\n",
    "\n",
    "for i in [10, 20, 30, 40]:\n",
    "    train_dataset.seq_len = i\n",
    "    val_dataset.seq_len = i\n",
    "\n",
    "    for j in range(1, 4):\n",
    "        print(\"=======================================\")\n",
    "        print(\"TRAINING BEGINS\")\n",
    "        print(f\"seq_len: {i}\")\n",
    "        print(f\"hidden_dims: {j}\")\n",
    "        print(\"=======================================\")\n",
    "        (\n",
    "            encoder,\n",
    "            decoder,\n",
    "            train_losses,\n",
    "            val_losses\n",
    "        ) = quick_train(LSTM_AE, train_dataset, val_dataset, encoding_dim=384, verbose=True, epochs=3, h_dims=[384]*j, save_path=Path(f\"../../checkpoints/seq_len_{i}_h_dims_{j}\"))\n",
    "        trains.append(train_losses)\n",
    "        vals.append(val_losses)\n",
    "\n",
    "results = pd.DataFrame({\n",
    "    \"train\": trains,\n",
    "    \"val\": vals,\n",
    "    \"train_min\": np.min(trains, axis=1),\n",
    "    \"val_min\": np.min(vals, axis=1),\n",
    "    \"seq_len\": [10, 20, 30, 40] * 3,\n",
    "    \"h_dims\": [1] * 4 + [2] * 4 + [3] * 4\n",
    "})\n",
    "\n",
    "results.to_pickle(\"../../checkpoints/lstm_results.pkl\")"
   ]
  },
  {
   "cell_type": "code",
   "execution_count": 109,
   "metadata": {},
   "outputs": [],
   "source": [
    "results = pd.DataFrame({\n",
    "    \"train\": trains,\n",
    "    \"val\": vals,\n",
    "    \"train_min\": np.min(trains, axis=1),\n",
    "    \"val_min\": np.min(vals, axis=1),\n",
    "    \"seq_len\": [10, 20, 30, 40] * 3,\n",
    "    \"h_dims\": [1] * 4 + [2] * 4 + [3] * 4\n",
    "})\n",
    "\n",
    "results.to_pickle(\"../../checkpoints/lstm_results.pkl\")"
   ]
  },
  {
   "cell_type": "code",
   "execution_count": 110,
   "metadata": {},
   "outputs": [
    {
     "data": {
      "image/png": "[encoded data removed]",
      "text/plain": [
       "<Figure size 1000x1000 with 4 Axes>"
      ]
     },
     "metadata": {},
     "output_type": "display_data"
    }
   ],
   "source": [
    "# plot the best 4 models\n",
    "results = results.sort_values(by=\"val_min\").reset_index(drop=True)\n",
    "\n",
    "import matplotlib.pyplot as plt\n",
    "fig, axs = plt.subplots(2, 2, figsize=(10, 10))\n",
    "axs = axs.flatten()\n",
    "\n",
    "for i in range(4):\n",
    "    axs[i].plot(results.iloc[i][\"train\"], label=\"train\")\n",
    "    axs[i].plot(results.iloc[i][\"val\"], label=\"val\")\n",
    "    axs[i].set_title(f\"seq_len: {results.iloc[i]['seq_len']}, h_dims: {results.iloc[i]['h_dims']}\")\n",
    "    axs[i].set_xlabel(\"Epoch\")\n",
    "    axs[i].set_ylabel(\"Loss\")\n",
    "    axs[i].set_yscale(\"log\")\n",
    "    axs[i].legend()\n",
    "plt.show()\n",
    "# save plot\n",
    "fig.savefig(\"../../checkpoints/lstm_results.png\")"
   ]
  },
  {
   "cell_type": "code",
   "execution_count": 76,
   "metadata": {},
   "outputs": [
    {
     "data": {
      "application/vnd.jupyter.widget-view+json": {
       "model_id": "eae5dfecf3384a38a3d08acaeb2d5f6b",
       "version_major": 2,
       "version_minor": 0
      },
      "text/plain": [
       "  0%|          | 0/145620 [00:00<?, ?it/s]"
      ]
     },
     "metadata": {},
     "output_type": "display_data"
    },
    {
     "data": {
      "application/vnd.jupyter.widget-view+json": {
       "model_id": "f6bfa7107538453ab078355d9dfe34f8",
       "version_major": 2,
       "version_minor": 0
      },
      "text/plain": [
       "  0%|          | 0/43006 [00:00<?, ?it/s]"
      ]
     },
     "metadata": {},
     "output_type": "display_data"
    },
    {
     "data": {
      "application/vnd.jupyter.widget-view+json": {
       "model_id": "c5999e91f4234c26a4fd2ee93ffd9072",
       "version_major": 2,
       "version_minor": 0
      },
      "text/plain": [
       "  0%|          | 0/32351 [00:00<?, ?it/s]"
      ]
     },
     "metadata": {},
     "output_type": "display_data"
    }
   ],
   "source": [
    "ckpt = torch.load(\"./model_004.pt\")\n",
    "mloaded = LSTM_AE(val_filtered[-1].shape[-1], 512, h_dims=[512, 512, 512])\n",
    "mloaded.load_state_dict(ckpt)\n",
    "mloaded = mloaded.to(device)\n",
    "\n",
    "train_embeddings = get_encodings(mloaded, train_dataset)\n",
    "val_embeddings = get_encodings(mloaded, val_dataset)\n",
    "test_embeddings = get_encodings(mloaded, test_dataset)"
   ]
  },
  {
   "cell_type": "code",
   "execution_count": 96,
   "metadata": {},
   "outputs": [
    {
     "name": "stderr",
     "output_type": "stream",
     "text": [
      "Downloading...\n",
      "From: https://drive.google.com/uc?id=124QDhAo21G4jWOA9L-LIKMjZe8PY0zE0\n",
      "To: /workspace/train_qna_initial.pkl\n",
      "100%|██████████| 63.1M/63.1M [00:25<00:00, 2.52MB/s]\n",
      "Downloading...\n",
      "From: https://drive.google.com/uc?id=1cnQGQ6Y--Cd3Ri_vQuOgsRmZ-BNhznoY\n",
      "To: /workspace/val_qna_initial.pkl\n",
      "100%|██████████| 18.9M/18.9M [00:01<00:00, 16.0MB/s]\n",
      "Downloading...\n",
      "From: https://drive.google.com/uc?id=16Kis7d7tTu9SUwBT6kZt4kfKvW1M0q6d\n",
      "To: /workspace/test_qna_initial.pkl\n",
      "100%|██████████| 14.1M/14.1M [00:01<00:00, 12.6MB/s]\n"
     ]
    },
    {
     "data": {
      "text/plain": [
       "'./test_qna_initial.pkl'"
      ]
     },
     "execution_count": 96,
     "metadata": {},
     "output_type": "execute_result"
    }
   ],
   "source": [
    "output = \"./train_qna_initial.pkl\"\n",
    "url = \"https://drive.google.com/file/d/124QDhAo21G4jWOA9L-LIKMjZe8PY0zE0/view?usp=sharing\"\n",
    "gdown.download(url=url, output=output, quiet=False, fuzzy=True)\n",
    "\n",
    "output = \"./val_qna_initial.pkl\"\n",
    "url = \"https://drive.google.com/file/d/1cnQGQ6Y--Cd3Ri_vQuOgsRmZ-BNhznoY/view?usp=sharing\"\n",
    "gdown.download(url=url, output=output, quiet=False, fuzzy=True)\n",
    "\n",
    "output = \"./test_qna_initial.pkl\"\n",
    "url = \"https://drive.google.com/file/d/16Kis7d7tTu9SUwBT6kZt4kfKvW1M0q6d/view?usp=sharing\"\n",
    "gdown.download(url=url, output=output, quiet=False, fuzzy=True)"
   ]
  },
  {
   "cell_type": "code",
   "execution_count": 97,
   "metadata": {},
   "outputs": [],
   "source": [
    "train_csv = pd.read_csv(\"./train_qna.csv\", )\n",
    "train_csv['embeddings'] = list(map(lambda x: x.detach().cpu().numpy(), train_embeddings))\n",
    "\n",
    "train_qna_pkl = pd.read_pickle(\"./train_qna_initial.pkl\")[[\"user_id\", \"multiple_responses\", \"question\", \"choices\", \"correct\", \"student_answer\", \"start_time\"]]\n",
    "train_qna_pkl[\"embedding\"] = train_csv.groupby(\"question_index\").apply(lambda x: x.iloc[-1])[\"embeddings\"]\n",
    "train_qna_pkl.to_pickle(\"./train_pkl_with_embeddings\")"
   ]
  },
  {
   "cell_type": "code",
   "execution_count": 98,
   "metadata": {},
   "outputs": [],
   "source": [
    "val_csv = pd.read_csv(\"./val_qna.csv\", )\n",
    "val_csv['embeddings'] = list(map(lambda x: x.detach().cpu().numpy(), val_embeddings))\n",
    "\n",
    "val_qna_pkl = pd.read_pickle(\"./val_qna_initial.pkl\")[[\"user_id\", \"multiple_responses\", \"question\", \"choices\", \"correct\", \"student_answer\", \"start_time\"]]\n",
    "val_qna_pkl[\"embedding\"] = val_csv.groupby(\"question_index\").apply(lambda x: x.iloc[-1])[\"embeddings\"]\n",
    "val_qna_pkl.to_pickle(\"./val_pkl_with_embeddings\")"
   ]
  },
  {
   "cell_type": "code",
   "execution_count": 99,
   "metadata": {},
   "outputs": [],
   "source": [
    "test_csv = pd.read_csv(\"./test_qna.csv\", )\n",
    "test_csv['embeddings'] = list(map(lambda x: x.detach().cpu().numpy(), test_embeddings))\n",
    "\n",
    "test_qna_pkl = pd.read_pickle(\"./test_qna_initial.pkl\")[[\"user_id\", \"multiple_responses\", \"question\", \"choices\", \"correct\", \"student_answer\", \"start_time\"]]\n",
    "test_qna_pkl[\"embedding\"] = test_csv.groupby(\"question_index\").apply(lambda x: x.iloc[-1])[\"embeddings\"]\n",
    "test_qna_pkl.to_pickle(\"./test_pkl_with_embeddings\")"
   ]
  },
  {
   "cell_type": "code",
   "execution_count": 104,
   "metadata": {},
   "outputs": [
    {
     "data": {
      "text/html": [
       "<div>\n",
       "<style scoped>\n",
       "    .dataframe tbody tr th:only-of-type {\n",
       "        vertical-align: middle;\n",
       "    }\n",
       "\n",
       "    .dataframe tbody tr th {\n",
       "        vertical-align: top;\n",
       "    }\n",
       "\n",
       "    .dataframe thead th {\n",
       "        text-align: right;\n",
       "    }\n",
       "</style>\n",
       "<table border=\"1\" class=\"dataframe\">\n",
       "  <thead>\n",
       "    <tr style=\"text-align: right;\">\n",
       "      <th></th>\n",
       "      <th>user_id</th>\n",
       "      <th>multiple_responses</th>\n",
       "      <th>question</th>\n",
       "      <th>choices</th>\n",
       "      <th>correct</th>\n",
       "      <th>student_answer</th>\n",
       "      <th>start_time</th>\n",
       "      <th>embedding</th>\n",
       "    </tr>\n",
       "  </thead>\n",
       "  <tbody>\n",
       "    <tr>\n",
       "      <th>0</th>\n",
       "      <td>387604</td>\n",
       "      <td>True</td>\n",
       "      <td>&lt;p&gt;Marlyne Sahakian ist Assistenzprofessorin a...</td>\n",
       "      <td>[&lt;p&gt;…wundert sich darüber, dass SchweizerInnen...</td>\n",
       "      <td>[False, False, True, False]</td>\n",
       "      <td>[False, True, True, False]</td>\n",
       "      <td>2021-10-31 18:36:44.534</td>\n",
       "      <td>[0.24643469, -0.05258508, 0.5322496, -0.043402...</td>\n",
       "    </tr>\n",
       "    <tr>\n",
       "      <th>1</th>\n",
       "      <td>387604</td>\n",
       "      <td>True</td>\n",
       "      <td>&lt;strong&gt;Wähle die korrekte Pluralform(en) als ...</td>\n",
       "      <td>[die Daten, die Data, die Datume]</td>\n",
       "      <td>[True, False, False]</td>\n",
       "      <td>[True, False, False]</td>\n",
       "      <td>2021-11-09 07:57:38.255</td>\n",
       "      <td>[0.22013251, -0.052667905, 0.59776336, -0.0211...</td>\n",
       "    </tr>\n",
       "  </tbody>\n",
       "</table>\n",
       "</div>"
      ],
      "text/plain": [
       "   user_id  multiple_responses  \\\n",
       "0   387604                True   \n",
       "1   387604                True   \n",
       "\n",
       "                                            question  \\\n",
       "0  <p>Marlyne Sahakian ist Assistenzprofessorin a...   \n",
       "1  <strong>Wähle die korrekte Pluralform(en) als ...   \n",
       "\n",
       "                                             choices  \\\n",
       "0  [<p>…wundert sich darüber, dass SchweizerInnen...   \n",
       "1                  [die Daten, die Data, die Datume]   \n",
       "\n",
       "                       correct              student_answer  \\\n",
       "0  [False, False, True, False]  [False, True, True, False]   \n",
       "1         [True, False, False]        [True, False, False]   \n",
       "\n",
       "               start_time                                          embedding  \n",
       "0 2021-10-31 18:36:44.534  [0.24643469, -0.05258508, 0.5322496, -0.043402...  \n",
       "1 2021-11-09 07:57:38.255  [0.22013251, -0.052667905, 0.59776336, -0.0211...  "
      ]
     },
     "execution_count": 104,
     "metadata": {},
     "output_type": "execute_result"
    }
   ],
   "source": [
    "qna_with_embeddings = pd.concat((train_qna_pkl, val_qna_pkl, test_qna_pkl), ignore_index=True)\n",
    "qna_with_embeddings.to_pickle(\"merged_qna_with_embeddings.pkl\")\n",
    "qna_with_embeddings.head(2)"
   ]
  },
  {
   "cell_type": "code",
   "execution_count": 11,
   "metadata": {},
   "outputs": [
    {
     "data": {
      "text/plain": [
       "19488"
      ]
     },
     "execution_count": 11,
     "metadata": {},
     "output_type": "execute_result"
    }
   ],
   "source": [
    "import pandas as pd\n",
    "\n",
    "df = pd.read_pickle(r\"/myhome/final-submission-extrapizzafosterslearning/data/lernnavi/qna/validation/qna_expanded.pkl\")\n",
    "len(df)"
   ]
  }
 ],
 "metadata": {
  "kernelspec": {
   "display_name": "Python 3 (ipykernel)",
   "language": "python",
   "name": "python3"
  },
  "language_info": {
   "codemirror_mode": {
    "name": "ipython",
    "version": 3
   },
   "file_extension": ".py",
   "mimetype": "text/x-python",
   "name": "python",
   "nbconvert_exporter": "python",
   "pygments_lexer": "ipython3",
   "version": "3.8.18"
  }
 },
 "nbformat": 4,
 "nbformat_minor": 4
}
